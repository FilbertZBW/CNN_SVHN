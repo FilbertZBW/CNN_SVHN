{
 "cells": [
  {
   "cell_type": "markdown",
   "metadata": {},
   "source": [
    "# Steps\n",
    "\n",
    "1. ## Import SVHN dataset\n",
    "2. ## Data preprocessing\n",
    "   - Check data type\n",
    "   - Convert to float for image and to int for label\n",
    "   - Normalize the data\n",
    "   - One-hot encoding for labels\n",
    "   - Data augmentation\n",
    "      > augment the images in the dataset, by randomly rotating them, zooming them in and out, shifting them up and down\n",
    " \n",
    " <br>\n",
    " \n",
    " 3. ## Create CNN model\n",
    "\n",
    " 4. ## Train & Test\n",
    "\n",
    " 5. ## Results and discussion\n"
   ]
  },
  {
   "cell_type": "code",
   "execution_count": null,
   "metadata": {},
   "outputs": [],
   "source": []
  }
 ],
 "metadata": {
  "interpreter": {
   "hash": "31f2aee4e71d21fbe5cf8b01ff0e069b9275f58929596ceb00d14d90e3e16cd6"
  },
  "kernelspec": {
   "display_name": "Python 3.8.9 64-bit",
   "language": "python",
   "name": "python3"
  },
  "language_info": {
   "name": "python",
   "version": "3.8.9"
  },
  "orig_nbformat": 4
 },
 "nbformat": 4,
 "nbformat_minor": 2
}
