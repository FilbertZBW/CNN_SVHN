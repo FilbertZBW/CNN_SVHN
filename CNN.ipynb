{
 "cells": [
  {
   "cell_type": "markdown",
   "metadata": {},
   "source": [
    "## Step 1: Import SVHN dataset"
   ]
  },
  {
   "cell_type": "code",
   "execution_count": 1,
   "metadata": {},
   "outputs": [],
   "source": [
    "import h5py\n",
    "import torchvision\n",
    "import torchvision.transforms as transforms\n",
    "import cv2\n",
    "import os\n",
    "import numpy as np\n",
    "import glob\n",
    "from tensorflow.keras import layers, models\n",
    "import matplotlib.pyplot as plt\n",
    "import matplotlib.image as img"
   ]
  },
  {
   "cell_type": "code",
   "execution_count": 2,
   "metadata": {},
   "outputs": [],
   "source": [
    "# local_path = \"../..\" <- please change dir here\n",
    "local_path = \"../..\""
   ]
  },
  {
   "cell_type": "markdown",
   "metadata": {},
   "source": [
    "## Step 2: Data Preprocessing"
   ]
  },
  {
   "cell_type": "markdown",
   "metadata": {},
   "source": [
    "### 2a. Crop Images and Convert to grayscale"
   ]
  },
  {
   "cell_type": "code",
   "execution_count": 3,
   "metadata": {},
   "outputs": [],
   "source": [
    "# following class are used for image crop and get cropped image path \n",
    "class CropImage(object):\n",
    "    def __init__ (self, local_path, mode, grayscale=True):\n",
    "        # load digitStruct.mat\n",
    "        self.local_path = local_path\n",
    "        self.mode = mode\n",
    "        self.grayscale = grayscale\n",
    "        if mode == \"train\":\n",
    "            self.f = h5py.File(local_path + \"/train/digitStruct.mat\", 'r')\n",
    "        elif mode == \"test\":\n",
    "            self.f = h5py.File(local_path + \"/test/digitStruct.mat\", 'r')\n",
    "        # get dataset for each group\n",
    "        self.digitStructName = self.f['digitStruct']['name']\n",
    "        self.digitStructBbox = self.f['digitStruct']['bbox']\n",
    "        self.file_path_dict = {}\n",
    "        \n",
    "    # get bbox for each instance. bbox is a library describing the bounder box position\n",
    "    def get_bbox(self, n):\n",
    "        bbox = {}\n",
    "        bb = self.digitStructBbox[n].item()\n",
    "        def bbox_helper(attr_type):\n",
    "            attr = self.f[bb][attr_type]\n",
    "            if len(attr) > 1:\n",
    "                pos = [int(self.f[attr[j].item()][0][0]) for j in range(len(attr))]\n",
    "            else:\n",
    "                pos = [attr[0][0]]\n",
    "\n",
    "            return pos\n",
    "        bbox['label'] = bbox_helper('label')\n",
    "        bbox['height'] = bbox_helper('height')\n",
    "        bbox['left'] = bbox_helper('left')\n",
    "        bbox['top'] = bbox_helper('top')\n",
    "        bbox['width'] = bbox_helper('width')\n",
    "        return bbox\n",
    "\n",
    "    # get file name for each instance. File names are indexes starting from 1\n",
    "    def get_name(self, n):\n",
    "        name = ''.join([chr(v[0]) for v in self.f[(self.digitStructName[n][0])]])\n",
    "        return name\n",
    "\n",
    "    def save_path_to_dict(self, original_file_name, save_file_path, img):\n",
    "        # save path to dict\n",
    "        if original_file_name not in self.file_path_dict:\n",
    "            self.file_path_dict[original_file_name] = [save_file_path]\n",
    "        elif save_file_path not in self.file_path_dict[original_file_name]:\n",
    "            self.file_path_dict[original_file_name].append(save_file_path)\n",
    "        # save cropped image\n",
    "        torchvision.utils.save_image(img, save_file_path)\n",
    "\n",
    "    # crop image for each instance, also save cropped image name to the dict\n",
    "    def crop_image(self, n):\n",
    "        n_drop = 0\n",
    "        # for each label, crop the image\n",
    "        digit_dict = self.get_bbox(n)\n",
    "        \n",
    "        for label_index in range(len(digit_dict['label'])):\n",
    "            label = int(digit_dict['label'][label_index])\n",
    "            # label 0 is represented using 10\n",
    "            if label == 10:\n",
    "                label = 0\n",
    "\n",
    "            # get crop position\n",
    "            left = int(digit_dict['left'][label_index])\n",
    "            upper = int(digit_dict['top'][label_index])\n",
    "            right = int(left + digit_dict['width'][label_index])\n",
    "            lower = int(upper + digit_dict['height'][label_index])\n",
    "\n",
    "            # invalid data\n",
    "            if left < 0 or upper < 0:\n",
    "                n_drop += 1\n",
    "                continue\n",
    "\n",
    "            # crop image\n",
    "            img_path_crop_test = self.local_path + '/' + self.mode + '/' + self.get_name(n)\n",
    "            image = cv2.imread(img_path_crop_test)\n",
    "            img = image[upper:lower, left:right, :]\n",
    "\n",
    "            if self.grayscale == True:\n",
    "                # transpose image into size 32 * 32 grayscale tensor format\n",
    "                transformed_img = transforms.Compose(\n",
    "                        [transforms.ToPILImage(),\n",
    "                        transforms.Grayscale(num_output_channels=1),\n",
    "                        transforms.Resize((32, 32)),\n",
    "                        transforms.ToTensor()])(img)\n",
    "                # ref: http://man.hubwiz.com/docset/torchvision.docset/Contents/Resources/Documents/transforms.html\n",
    "            else:\n",
    "                 # If num_output_channels == 1 : returned image is single channel If num_output_channels == 3 : returned image is 3 channel with r == g == b\n",
    "                transformed_img = transforms.Compose(\n",
    "                        [transforms.ToPILImage(),\n",
    "                        transforms.Resize((32, 32)),\n",
    "                        transforms.ToTensor()])(img)\n",
    "\n",
    "            grayscale_text = 'single' if self.grayscale == True else 'rgb'\n",
    "            process_folder = self.local_path + '/process/' + self.mode + '/' + grayscale_text +'/'\n",
    "            # check whether the process folder exists or not\n",
    "            if not os.path.exists(process_folder):\n",
    "                # create a new directory because it does not exist\n",
    "                os.makedirs(process_folder)\n",
    "                print(\"Created the process folder to store preprocessed images\")\n",
    "\n",
    "            # store image as original file name + _ + label + _ + label index, saved in process folder\n",
    "            original_file_name = self.get_name(n).split('.')[0]\n",
    "\n",
    "            file_head = '_'.join([process_folder + original_file_name, str(label_index), str(label)])\n",
    "            file_tail = '.png'\n",
    "            inverted_file_tail = '_iv.png'\n",
    "\n",
    "            # invert grayscale image to get a new image, by doing so we could expande our training data set\n",
    "            if self.mode == \"train\":\n",
    "                inverted_transformed_img = transforms.functional.invert(transformed_img)\n",
    "                self.save_path_to_dict(original_file_name, file_head+inverted_file_tail, inverted_transformed_img)\n",
    "        \n",
    "            self.save_path_to_dict(original_file_name, file_head+file_tail, transformed_img)\n",
    "    \n",
    "    # get a list of cropped image file path\n",
    "    def get_cropped_image_path(self, n):\n",
    "        curr_path = self.local_path + '/' + self.mode + '/'\n",
    "        # check the file name is out of range, max is 33401 for train, 13065 for test\n",
    "        if n + 1 not in self.file_path_dict:\n",
    "            if n + 2 >= len(os.listdir(curr_path)): # changed from 3 to 2\n",
    "                print(\"Please check the file name!\")\n",
    "            else:\n",
    "                # havent been processed yet\n",
    "                self.crop_image(n)\n",
    "        # return a list of file path name of the cropped file \n",
    "        return self.file_path_dict[str(n+1)]"
   ]
  },
  {
   "cell_type": "markdown",
   "metadata": {},
   "source": [
    "### 2b. Create train and test datasets"
   ]
  },
  {
   "cell_type": "code",
   "execution_count": 5,
   "metadata": {},
   "outputs": [],
   "source": [
    "def get_cropped_images(cropped_img_dir_list):\n",
    "    '''\n",
    "    Return a list of images of a single number\n",
    "    e.g. Original image = 210, return image of 2, 1, 0\n",
    "    '''\n",
    "    output = []\n",
    "    for cropped_img_dir in cropped_img_dir_list:\n",
    "        output.append(cv2.imread(cropped_img_dir))\n",
    "    return output\n",
    "\n",
    "def get_labels(data, idx, multiplier=1):\n",
    "    '''\n",
    "    Return a list of labels. Convert label 10 -> 0\n",
    "    '''\n",
    "    output = []\n",
    "    for l in data.get_bbox(idx)['label']:\n",
    "        output += [0] * multiplier if l == 10 else [int(l)]* multiplier\n",
    "    return output\n",
    "\n",
    "def create_input(local_path, mode, grayscale): # <- possible a better function name?\n",
    "    '''\n",
    "    Return lists of train/test\n",
    "    '''\n",
    "    X, y, image_number = [], [], []\n",
    "    data = CropImage(local_path, mode, grayscale)\n",
    "    dataset_path = local_path + \"/\" + mode\n",
    "    total_image_num = len(glob.glob1(dataset_path, \"*.png\"))\n",
    "\n",
    "    for idx in range(total_image_num):\n",
    "        try:\n",
    "            cropped_img_dir_list = data.get_cropped_image_path(idx)\n",
    "            # Two images per number in the train, and only one in the test\n",
    "            multiplier = 2 if mode == \"train\" else 1\n",
    "\n",
    "            # Check if number of Cropped img == number of labels\n",
    "            if len(cropped_img_dir_list) != len(\n",
    "                    data.get_bbox(idx)['label'] * multiplier):\n",
    "                print(\n",
    "                    \"Skipped {}.png, Number of cropped image is inconsistent with labels\"\n",
    "                    .format(idx + 1))\n",
    "                continue\n",
    "\n",
    "            X += get_cropped_images(cropped_img_dir_list)\n",
    "            y += get_labels(data, idx, multiplier)\n",
    "            image_number += [idx] * len(cropped_img_dir_list)\n",
    "\n",
    "        except:\n",
    "            # Failed to crop image\n",
    "            print(\"Skipped {}.png, No cropped image output\".format(idx + 1))\n",
    "            continue\n",
    "\n",
    "    return np.array(X), np.array(y), np.array(image_number)"
   ]
  },
  {
   "cell_type": "code",
   "execution_count": 6,
   "metadata": {},
   "outputs": [
    {
     "name": "stdout",
     "output_type": "stream",
     "text": [
      "Created the process folder to store preprocessed images\n",
      "Skipped 252.png, Number of cropped image is inconsistent with labels\n",
      "Skipped 724.png, Number of cropped image is inconsistent with labels\n",
      "Skipped 3100.png, Number of cropped image is inconsistent with labels\n",
      "Skipped 5312.png, Number of cropped image is inconsistent with labels\n",
      "Skipped 6877.png, No cropped image output\n",
      "Skipped 9357.png, Number of cropped image is inconsistent with labels\n",
      "Skipped 11861.png, No cropped image output\n",
      "Skipped 13145.png, No cropped image output\n",
      "Skipped 15125.png, Number of cropped image is inconsistent with labels\n",
      "Skipped 18277.png, Number of cropped image is inconsistent with labels\n",
      "Skipped 18393.png, Number of cropped image is inconsistent with labels\n",
      "Skipped 19383.png, Number of cropped image is inconsistent with labels\n",
      "Skipped 20540.png, Number of cropped image is inconsistent with labels\n",
      "Skipped 20901.png, Number of cropped image is inconsistent with labels\n",
      "Skipped 20915.png, Number of cropped image is inconsistent with labels\n",
      "Skipped 22442.png, Number of cropped image is inconsistent with labels\n",
      "Skipped 23905.png, Number of cropped image is inconsistent with labels\n",
      "Skipped 26570.png, Number of cropped image is inconsistent with labels\n",
      "Skipped 27638.png, Number of cropped image is inconsistent with labels\n",
      "Skipped 27809.png, Number of cropped image is inconsistent with labels\n",
      "Skipped 28513.png, Number of cropped image is inconsistent with labels\n",
      "Skipped 28798.png, Number of cropped image is inconsistent with labels\n",
      "Skipped 28818.png, Number of cropped image is inconsistent with labels\n",
      "Skipped 28850.png, Number of cropped image is inconsistent with labels\n",
      "Skipped 29759.png, Number of cropped image is inconsistent with labels\n",
      "Skipped 30510.png, Number of cropped image is inconsistent with labels\n",
      "Skipped 30953.png, No cropped image output\n",
      "Skipped 32169.png, Number of cropped image is inconsistent with labels\n",
      "Skipped 32432.png, Number of cropped image is inconsistent with labels\n",
      "Created the process folder to store preprocessed images\n",
      "Skipped 344.png, No cropped image output\n",
      "Skipped 439.png, Number of cropped image is inconsistent with labels\n",
      "Skipped 521.png, Number of cropped image is inconsistent with labels\n",
      "Skipped 2613.png, Number of cropped image is inconsistent with labels\n",
      "Skipped 5260.png, Number of cropped image is inconsistent with labels\n",
      "Skipped 7636.png, Number of cropped image is inconsistent with labels\n",
      "Skipped 8885.png, Number of cropped image is inconsistent with labels\n",
      "Skipped 12434.png, Number of cropped image is inconsistent with labels\n"
     ]
    }
   ],
   "source": [
    "# Create grayscaled train and test datasets\n",
    "X_train, y_train, image_train = create_input(local_path, mode=\"train\", grayscale=True)\n",
    "X_test, y_test, img_number = create_input(local_path, mode=\"test\", grayscale=True)"
   ]
  },
  {
   "cell_type": "code",
   "execution_count": 7,
   "metadata": {},
   "outputs": [
    {
     "name": "stdout",
     "output_type": "stream",
     "text": [
      "Created the process folder to store preprocessed images\n",
      "Skipped 252.png, Number of cropped image is inconsistent with labels\n",
      "Skipped 724.png, Number of cropped image is inconsistent with labels\n",
      "Skipped 3100.png, Number of cropped image is inconsistent with labels\n",
      "Skipped 5312.png, Number of cropped image is inconsistent with labels\n",
      "Skipped 6877.png, No cropped image output\n",
      "Skipped 9357.png, Number of cropped image is inconsistent with labels\n",
      "Skipped 11861.png, No cropped image output\n",
      "Skipped 13145.png, No cropped image output\n",
      "Skipped 15125.png, Number of cropped image is inconsistent with labels\n",
      "Skipped 18277.png, Number of cropped image is inconsistent with labels\n",
      "Skipped 18393.png, Number of cropped image is inconsistent with labels\n",
      "Skipped 19383.png, Number of cropped image is inconsistent with labels\n",
      "Skipped 20540.png, Number of cropped image is inconsistent with labels\n",
      "Skipped 20901.png, Number of cropped image is inconsistent with labels\n",
      "Skipped 20915.png, Number of cropped image is inconsistent with labels\n",
      "Skipped 22442.png, Number of cropped image is inconsistent with labels\n",
      "Skipped 23905.png, Number of cropped image is inconsistent with labels\n",
      "Skipped 26570.png, Number of cropped image is inconsistent with labels\n",
      "Skipped 27638.png, Number of cropped image is inconsistent with labels\n",
      "Skipped 27809.png, Number of cropped image is inconsistent with labels\n",
      "Skipped 28513.png, Number of cropped image is inconsistent with labels\n",
      "Skipped 28798.png, Number of cropped image is inconsistent with labels\n",
      "Skipped 28818.png, Number of cropped image is inconsistent with labels\n",
      "Skipped 28850.png, Number of cropped image is inconsistent with labels\n",
      "Skipped 29759.png, Number of cropped image is inconsistent with labels\n",
      "Skipped 30510.png, Number of cropped image is inconsistent with labels\n",
      "Skipped 30953.png, No cropped image output\n",
      "Skipped 32169.png, Number of cropped image is inconsistent with labels\n",
      "Skipped 32432.png, Number of cropped image is inconsistent with labels\n",
      "Created the process folder to store preprocessed images\n",
      "Skipped 344.png, No cropped image output\n",
      "Skipped 439.png, Number of cropped image is inconsistent with labels\n",
      "Skipped 521.png, Number of cropped image is inconsistent with labels\n",
      "Skipped 2613.png, Number of cropped image is inconsistent with labels\n",
      "Skipped 5260.png, Number of cropped image is inconsistent with labels\n",
      "Skipped 7636.png, Number of cropped image is inconsistent with labels\n",
      "Skipped 8885.png, Number of cropped image is inconsistent with labels\n",
      "Skipped 12434.png, Number of cropped image is inconsistent with labels\n"
     ]
    }
   ],
   "source": [
    "# Create *colored* train and test datasets ETA 33min\n",
    "X_train_colored, y_train_colored, colored_train_num = create_input(local_path, mode=\"train\", grayscale=False)\n",
    "X_test_colored, y_test_colored, colored_test_num = create_input(local_path, mode=\"test\", grayscale=False)"
   ]
  },
  {
   "cell_type": "code",
   "execution_count": 8,
   "metadata": {},
   "outputs": [],
   "source": [
    "# save results to file\n",
    "\n",
    "# import json\n",
    "# with open(\"X_train\", \"w\") as fp:\n",
    "#     json.dump(X_train.tolist(), fp)\n",
    "\n",
    "# with open(\"y_train\", \"w\") as fp:\n",
    "#     json.dump(y_train.tolist(), fp)\n",
    "\n",
    "# with open(\"X_test\", \"w\") as fp:\n",
    "#     json.dump(X_test.tolist(), fp)\n",
    "\n",
    "# with open(\"y_test\", \"w\") as fp:\n",
    "#     json.dump(y_test.tolist(), fp)\n",
    "\n",
    "# with open(\"X_train_colored\", \"w\") as fp:\n",
    "#     json.dump(X_train_colored.tolist(), fp)\n",
    "\n",
    "# with open(\"y_train_colored\", \"w\") as fp:\n",
    "#     json.dump(y_train_colored.tolist(), fp)\n",
    "\n",
    "# with open(\"X_test_colored\", \"w\") as fp:\n",
    "#     json.dump(X_test_colored.tolist(), fp)\n",
    "\n",
    "# with open(\"y_test_colored\", \"w\") as fp:\n",
    "#     json.dump(y_test_colored.tolist(), fp)\n"
   ]
  },
  {
   "cell_type": "markdown",
   "metadata": {},
   "source": [
    "## Step 3: Create CNN model"
   ]
  },
  {
   "cell_type": "code",
   "execution_count": 10,
   "metadata": {},
   "outputs": [],
   "source": [
    "# Create CNN base model\n",
    "cnn_model = models.Sequential()\n",
    "'''\n",
    "[1] convolution layer + [2] ReLU R(z) = max(0, z)\n",
    "filters 32 -> detect 32 different/features in the image, filter size 3 x 3\n",
    "'''\n",
    "cnn_model.add(layers.Conv2D(filters=32, kernel_size=(3, 3), activation='relu', input_shape=(32, 32, 3)))\n",
    "\n",
    "'''\n",
    "[3] pooling layer, looking for the max value in a 2 x 2 filter\n",
    "down-sampling operations that reduces the dimensionality of the feature map\n",
    "detect edges, corners\n",
    "'''\n",
    "cnn_model.add(layers.MaxPooling2D((2, 2)))\n",
    "\n",
    "cnn_model.add(layers.Conv2D(64, (3, 3), activation='relu'))\n",
    "cnn_model.add(layers.MaxPooling2D((2, 2)))\n",
    "\n",
    "'''\n",
    "flattening - converting all the resultant 2d arrays from pooled feature map to a single long continuous linear vector\n",
    "'''\n",
    "cnn_model.add(layers.Flatten()) \n",
    "cnn_model.add(layers.Dense(64, activation='relu'))\n",
    "'''\n",
    "[4] fully connected layer to identify the numbers \n",
    "'''\n",
    "cnn_model.add(layers.Dense(10, activation='softmax'))\n",
    "\n",
    "cnn_model.compile(optimizer='adam',\n",
    "              loss='sparse_categorical_crossentropy',\n",
    "              metrics=['accuracy'])"
   ]
  },
  {
   "cell_type": "markdown",
   "metadata": {},
   "source": [
    "### 3a. Choose the optimal number of epochs"
   ]
  },
  {
   "cell_type": "code",
   "execution_count": 27,
   "metadata": {},
   "outputs": [
    {
     "name": "stdout",
     "output_type": "stream",
     "text": [
      "4575/4575 [==============================] - 66s 14ms/step - loss: 0.8646 - accuracy: 0.7621\n",
      "813/813 [==============================] - 4s 4ms/step - loss: 0.6643 - accuracy: 0.8090\n",
      "4575/4575 [==============================] - 65s 14ms/step - loss: 0.5336 - accuracy: 0.8438\n",
      "813/813 [==============================] - 4s 5ms/step - loss: 0.5425 - accuracy: 0.8473\n",
      "4575/4575 [==============================] - 65s 14ms/step - loss: 0.4617 - accuracy: 0.8633\n",
      "813/813 [==============================] - 3s 4ms/step - loss: 0.5423 - accuracy: 0.8461\n",
      "4575/4575 [==============================] - 62s 14ms/step - loss: 0.4263 - accuracy: 0.8739\n",
      "813/813 [==============================] - 3s 4ms/step - loss: 0.5006 - accuracy: 0.8630\n",
      "4575/4575 [==============================] - 61s 13ms/step - loss: 0.3988 - accuracy: 0.8813\n",
      "813/813 [==============================] - 3s 4ms/step - loss: 0.4906 - accuracy: 0.8583\n",
      "4575/4575 [==============================] - 61s 13ms/step - loss: 0.3768 - accuracy: 0.8875\n",
      "813/813 [==============================] - 3s 4ms/step - loss: 0.4852 - accuracy: 0.8702\n",
      "4575/4575 [==============================] - 64s 14ms/step - loss: 0.3582 - accuracy: 0.8933\n",
      "813/813 [==============================] - 3s 4ms/step - loss: 0.4716 - accuracy: 0.8759\n",
      "4575/4575 [==============================] - 63s 14ms/step - loss: 0.3461 - accuracy: 0.8959\n",
      "813/813 [==============================] - 4s 4ms/step - loss: 0.4700 - accuracy: 0.8787\n",
      "4575/4575 [==============================] - 65s 14ms/step - loss: 0.3286 - accuracy: 0.9007\n",
      "813/813 [==============================] - 3s 4ms/step - loss: 0.4688 - accuracy: 0.8771\n",
      "4575/4575 [==============================] - 64s 14ms/step - loss: 0.3223 - accuracy: 0.9031\n",
      "813/813 [==============================] - 4s 4ms/step - loss: 0.4699 - accuracy: 0.8753\n",
      "4575/4575 [==============================] - 63s 14ms/step - loss: 0.3121 - accuracy: 0.9059\n",
      "813/813 [==============================] - 3s 4ms/step - loss: 0.4836 - accuracy: 0.8767\n",
      "4575/4575 [==============================] - 63s 14ms/step - loss: 0.3011 - accuracy: 0.9095\n",
      "813/813 [==============================] - 3s 4ms/step - loss: 0.5112 - accuracy: 0.8736\n",
      "4575/4575 [==============================] - 65s 14ms/step - loss: 0.2935 - accuracy: 0.9116\n",
      "813/813 [==============================] - 3s 4ms/step - loss: 0.5175 - accuracy: 0.8692\n",
      "4575/4575 [==============================] - 65s 14ms/step - loss: 0.2862 - accuracy: 0.9133\n",
      "813/813 [==============================] - 3s 4ms/step - loss: 0.4985 - accuracy: 0.8787\n",
      "4575/4575 [==============================] - 64s 14ms/step - loss: 0.2819 - accuracy: 0.9149\n",
      "813/813 [==============================] - 3s 4ms/step - loss: 0.5450 - accuracy: 0.8713: 0s - loss: 0.5462 - accura\n"
     ]
    }
   ],
   "source": [
    "# Create CNN base model\n",
    "model_epoch_diff = models.Sequential()\n",
    "model_epoch_diff.add(layers.Conv2D(filters=32, kernel_size=(3, 3), activation='relu', input_shape=(32, 32, 3)))\n",
    "model_epoch_diff.add(layers.MaxPooling2D((2, 2)))\n",
    "model_epoch_diff.add(layers.Conv2D(64, (3, 3), activation='relu'))\n",
    "model_epoch_diff.add(layers.MaxPooling2D((2, 2)))\n",
    "model_epoch_diff.add(layers.Flatten()) \n",
    "model_epoch_diff.add(layers.Dense(64, activation='relu'))\n",
    "model_epoch_diff.add(layers.Dense(10, activation='softmax'))\n",
    "model_epoch_diff.compile(optimizer='adam',\n",
    "              loss='sparse_categorical_crossentropy',\n",
    "              metrics=['accuracy'])\n",
    "\n",
    "def find_optimal_epoch(model, X_train, y_train, X_test, y_test, epoch_num):\n",
    "    test_loss_list, test_accuracy_list, train_loss_list, train_accuracy_list = [],[],[],[]\n",
    "    \n",
    "    for _ in range(1, epoch_num + 1):\n",
    "        h = model.fit(X_train, y_train, epochs=1)\n",
    "        train_loss = h.history['loss']\n",
    "        train_loss_list.append(train_loss)\n",
    "        train_accuracy = h.history['accuracy']\n",
    "        train_accuracy_list.append(train_accuracy)\n",
    "\n",
    "        test_loss, test_accuracy = model.evaluate(X_test,y_test)\n",
    "        test_loss_list.append(test_loss)\n",
    "        test_accuracy_list.append(test_accuracy)\n",
    "        \n",
    "    return test_loss_list, test_accuracy_list, train_loss_list, train_accuracy_list\n",
    "\n",
    "test_loss_list, test_accuracy_list, train_loss_list, train_accuracy_list = find_optimal_epoch(model_epoch_diff, X_train, y_train, X_test, y_test, 15)"
   ]
  },
  {
   "cell_type": "code",
   "execution_count": 35,
   "metadata": {},
   "outputs": [
    {
     "data": {
      "image/png": "[encoded data removed]",
      "text/plain": [
       "<Figure size 640x480 with 1 Axes>"
      ]
     },
     "metadata": {
      "needs_background": "light"
     },
     "output_type": "display_data"
    },
    {
     "data": {
      "image/png": "[encoded data removed]",
      "text/plain": [
       "<Figure size 640x480 with 1 Axes>"
      ]
     },
     "metadata": {
      "needs_background": "light"
     },
     "output_type": "display_data"
    }
   ],
   "source": [
    "from matplotlib.pyplot import figure\n",
    "figure(figsize=(8, 6), dpi=80)\n",
    "x = list(range(1, 16))\n",
    "plt.plot(x, test_loss_list, label=\"Testing\") \n",
    "plt.plot(x, train_loss_list, label=\"Training\") \n",
    "plt.legend()\n",
    "plt.grid()\n",
    "plt.title(\"Training Loss vs Testing Loss\")\n",
    "plt.xlabel(\"Number of Epochs --->\")\n",
    "plt.ylabel(\"Loss --->\")\n",
    "plt.show()\n",
    "\n",
    "\n",
    "figure(figsize=(8, 6), dpi=80)\n",
    "plt.plot(x, test_accuracy_list, label=\"Testing\") \n",
    "plt.plot(x, train_accuracy_list, label=\"Training\") \n",
    "plt.legend()\n",
    "plt.grid()\n",
    "plt.title(\"Training Accuracy vs Testing Accuracy\")\n",
    "plt.xlabel(\"Number of Epochs --->\")\n",
    "plt.ylabel(\"Accuracy --->\")\n",
    "plt.show()"
   ]
  },
  {
   "cell_type": "markdown",
   "metadata": {},
   "source": [
    "**Finding**\n",
    "* As the number of epochs increases beyond 8, the loss for testing starts to increase and the accuracy stops increasing, which are the signs of the overfitting of the model on training data.\n",
    "* We choose 8 numbers of epochs, considering the loss, accuracy, and time of training. \n",
    "\n",
    "* Ref: https://www.geeksforgeeks.org/choose-optimal-number-of-epochs-to-train-a-neural-network-in-keras/"
   ]
  },
  {
   "cell_type": "markdown",
   "metadata": {},
   "source": [
    "### 3b. Deciding optimal kernel size"
   ]
  },
  {
   "cell_type": "markdown",
   "metadata": {},
   "source": [
    "##### Kernel size 3x3"
   ]
  },
  {
   "cell_type": "code",
   "execution_count": 13,
   "metadata": {},
   "outputs": [
    {
     "name": "stdout",
     "output_type": "stream",
     "text": [
      "Epoch 1/8\n",
      "4575/4575 [==============================] - 62s 13ms/step - loss: 0.8450 - accuracy: 0.7645\n",
      "Epoch 2/8\n",
      "4575/4575 [==============================] - 63s 14ms/step - loss: 0.5804 - accuracy: 0.8294\n",
      "Epoch 3/8\n",
      "4575/4575 [==============================] - 63s 14ms/step - loss: 0.5314 - accuracy: 0.8434\n",
      "Epoch 4/8\n",
      "4575/4575 [==============================] - 62s 14ms/step - loss: 0.4972 - accuracy: 0.8531\n",
      "Epoch 5/8\n",
      "4575/4575 [==============================] - 70s 15ms/step - loss: 0.4732 - accuracy: 0.8600\n",
      "Epoch 6/8\n",
      "4575/4575 [==============================] - 65s 14ms/step - loss: 0.4489 - accuracy: 0.8678\n",
      "Epoch 7/8\n",
      "4575/4575 [==============================] - 68s 15ms/step - loss: 0.4308 - accuracy: 0.8724\n",
      "Epoch 8/8\n",
      "4575/4575 [==============================] - 63s 14ms/step - loss: 0.4135 - accuracy: 0.8773\n",
      "813/813 [==============================] - 3s 4ms/step - loss: 0.5104 - accuracy: 0.8565\n"
     ]
    },
    {
     "data": {
      "text/plain": [
       "[0.5104240775108337, 0.8565113544464111]"
      ]
     },
     "execution_count": 13,
     "metadata": {},
     "output_type": "execute_result"
    }
   ],
   "source": [
    "# Try a kernel of 3x3 size in the convolutional layer to see if accuracy improved\n",
    "model_3x3_kernel = models.Sequential()\n",
    "model_3x3_kernel.add(layers.Conv2D(filters=32, kernel_size=(3, 3), activation='relu', input_shape=(32, 32, 3)))\n",
    "model_3x3_kernel.add(layers.MaxPooling2D((2, 2)))\n",
    "\n",
    "model_3x3_kernel.add(layers.Conv2D(64, (3, 3), activation='relu'))\n",
    "model_3x3_kernel.add(layers.MaxPooling2D((2, 2)))\n",
    "\n",
    "model_3x3_kernel.add(layers.Flatten()) \n",
    "model_3x3_kernel.add(layers.Dense(64, activation='relu'))\n",
    "model_3x3_kernel.add(layers.Dense(10, activation='softmax'))\n",
    "model_3x3_kernel.compile(optimizer='adam',\n",
    "              loss='sparse_categorical_crossentropy',\n",
    "              metrics=['accuracy'])\n",
    "\n",
    "model_3x3_kernel.fit(X_train, y_train, epochs=8)\n",
    "model_3x3_kernel.evaluate(X_test,y_test) \n"
   ]
  },
  {
   "cell_type": "markdown",
   "metadata": {},
   "source": [
    "#### Kernel size 5x5"
   ]
  },
  {
   "cell_type": "code",
   "execution_count": 46,
   "metadata": {},
   "outputs": [
    {
     "name": "stdout",
     "output_type": "stream",
     "text": [
      "Epoch 1/8\n",
      "4575/4575 [==============================] - 78s 17ms/step - loss: 0.7753 - accuracy: 0.7849\n",
      "Epoch 2/8\n",
      "4575/4575 [==============================] - 78s 17ms/step - loss: 0.5331 - accuracy: 0.8465\n",
      "Epoch 3/8\n",
      "4575/4575 [==============================] - 75s 16ms/step - loss: 0.4751 - accuracy: 0.8633\n",
      "Epoch 4/8\n",
      "4575/4575 [==============================] - 81s 18ms/step - loss: 0.4490 - accuracy: 0.8716\n",
      "Epoch 5/8\n",
      "4575/4575 [==============================] - 80s 17ms/step - loss: 0.4303 - accuracy: 0.8765\n",
      "Epoch 6/8\n",
      "4575/4575 [==============================] - 74s 16ms/step - loss: 0.4208 - accuracy: 0.8794\n",
      "Epoch 7/8\n",
      "4575/4575 [==============================] - 73s 16ms/step - loss: 0.4090 - accuracy: 0.8827\n",
      "Epoch 8/8\n",
      "4575/4575 [==============================] - 73s 16ms/step - loss: 0.4114 - accuracy: 0.8824\n"
     ]
    },
    {
     "data": {
      "text/plain": [
       "<keras.callbacks.History at 0x16da33aedf0>"
      ]
     },
     "execution_count": 46,
     "metadata": {},
     "output_type": "execute_result"
    }
   ],
   "source": [
    "# Try a kernel of 5x5 size in the convolutional layer to see if accuracy improved\n",
    "model_5x5_kernel = models.Sequential()\n",
    "\n",
    "model_5x5_kernel.add(layers.Conv2D(filters=32, kernel_size=(5, 5), activation='relu', input_shape=(32, 32, 3)))\n",
    "model_5x5_kernel.add(layers.MaxPooling2D((2, 2)))\n",
    "\n",
    "model_5x5_kernel.add(layers.Conv2D(64, (5, 5), activation='relu'))\n",
    "model_5x5_kernel.add(layers.MaxPooling2D((2, 2)))\n",
    "\n",
    "model_5x5_kernel.add(layers.Flatten()) \n",
    "model_5x5_kernel.add(layers.Dense(64, activation='relu'))\n",
    "model_5x5_kernel.add(layers.Dense(10, activation='softmax'))\n",
    "model_5x5_kernel.compile(optimizer='adam',\n",
    "              loss='sparse_categorical_crossentropy',\n",
    "              metrics=['accuracy'])\n",
    "              \n",
    "model_5x5_kernel.fit(X_train, y_train, epochs=8)\n"
   ]
  },
  {
   "cell_type": "code",
   "execution_count": null,
   "metadata": {},
   "outputs": [],
   "source": [
    "# running spped data captured from the output above\n",
    "time_3x3 = 14 # ms/step\n",
    "time_5x5 = 17 \n",
    "\n",
    "loss_3x3, accuracy_3x3 = model_3x3_kernel.evaluate(X_test, y_test)\n",
    "loss_5x5, accuracy_5x5 = model_5x5_kernel.evaluate(X_test, y_test)"
   ]
  },
  {
   "cell_type": "code",
   "execution_count": 60,
   "metadata": {},
   "outputs": [
    {
     "data": {
      "text/plain": [
       "Text(0.5, 1.0, '3x3 vs. 5x5 Kernel Size Performance Comparison ')"
      ]
     },
     "execution_count": 60,
     "metadata": {},
     "output_type": "execute_result"
    },
    {
     "data": {
      "image/png": "[encoded data removed]",
      "text/plain": [
       "<Figure size 640x480 with 1 Axes>"
      ]
     },
     "metadata": {
      "needs_background": "light"
     },
     "output_type": "display_data"
    }
   ],
   "source": [
    "# visualize performance metrics\n",
    "figure(figsize=(8, 6), dpi=80)\n",
    "w=0.4\n",
    "x = ['Loss', 'Accuracy', 'Running Time']\n",
    "kernel_3x3 = [loss_3x3, accuracy_3x3, time_3x3 / 100] # divide by 100 for better visualisation\n",
    "kernel_5x5 = [loss_5x5, accuracy_5x5, time_5x5 / 100]\n",
    "bar1 = np.arange(len(x))\n",
    "bar2 = [i + w for i in bar1]\n",
    "plt.bar(bar1, kernel_3x3, w, label = '3x3 kernel size')\n",
    "plt.bar(bar2, kernel_5x5, w, label = '5x5 kernel size')\n",
    "plt.xticks(bar1 + w/2, x)\n",
    "plt.legend()\n",
    "plt.xlabel(\"metrics\")\n",
    "plt.title(\"3x3 vs. 5x5 Kernel Size Performance Comparison \")"
   ]
  },
  {
   "cell_type": "markdown",
   "metadata": {},
   "source": [
    "* It's a common practice to choose an odd-sized filter because the previous layer pixels will be symmetrical around the output pixel. \n",
    "* Compared to 5x5 kernel size, 3x3 has a higher prediction accuracy and costs less time per step. \n",
    "* Thus, we will choose the 3x3 kernel size\n",
    "\n",
    "* Ref: https://medium.com/analytics-vidhya/significance-of-kernel-size-200d769aecb1#:~:text=For%20an%20odd%2Dsized%20filter,to%20suffer%20with%20aliasing%20error."
   ]
  },
  {
   "cell_type": "markdown",
   "metadata": {},
   "source": [
    "### 3c. Number of (Conv + Max Pooling) layers"
   ]
  },
  {
   "cell_type": "markdown",
   "metadata": {},
   "source": [
    "##### 1 set of convolution + max pooling"
   ]
  },
  {
   "cell_type": "code",
   "execution_count": 14,
   "metadata": {},
   "outputs": [
    {
     "name": "stdout",
     "output_type": "stream",
     "text": [
      "Epoch 1/8\n",
      "4575/4575 [==============================] - 44s 10ms/step - loss: 1.4499 - accuracy: 0.6853\n",
      "Epoch 2/8\n",
      "4575/4575 [==============================] - 49s 11ms/step - loss: 0.7474 - accuracy: 0.7799\n",
      "Epoch 3/8\n",
      "4575/4575 [==============================] - 48s 10ms/step - loss: 0.7672 - accuracy: 0.7668\n",
      "Epoch 4/8\n",
      "4575/4575 [==============================] - 46s 10ms/step - loss: 0.6374 - accuracy: 0.8137\n",
      "Epoch 5/8\n",
      "4575/4575 [==============================] - 45s 10ms/step - loss: 0.6091 - accuracy: 0.8213\n",
      "Epoch 6/8\n",
      "4575/4575 [==============================] - 46s 10ms/step - loss: 0.5877 - accuracy: 0.8265\n",
      "Epoch 7/8\n",
      "4575/4575 [==============================] - 47s 10ms/step - loss: 0.5751 - accuracy: 0.8299\n",
      "Epoch 8/8\n",
      "4575/4575 [==============================] - 45s 10ms/step - loss: 0.5643 - accuracy: 0.8333\n"
     ]
    },
    {
     "data": {
      "text/plain": [
       "<keras.callbacks.History at 0x16d443f55b0>"
      ]
     },
     "execution_count": 14,
     "metadata": {},
     "output_type": "execute_result"
    }
   ],
   "source": [
    "# 1 set of convolution + pooling layers\n",
    "model1 = models.Sequential()\n",
    "model1.add(layers.Conv2D(filters=32, kernel_size=(3, 3), activation='relu', input_shape=(32, 32, 3)))\n",
    "model1.add(layers.MaxPooling2D((2, 2)))\n",
    "\n",
    "model1.add(layers.Flatten()) \n",
    "model1.add(layers.Dense(64, activation='relu'))\n",
    "model1.add(layers.Dense(10, activation='softmax'))\n",
    "\n",
    "model1.compile(optimizer='adam',\n",
    "              loss='sparse_categorical_crossentropy',\n",
    "              metrics=['accuracy'])\n",
    "\n",
    "model1.fit(X_train, y_train, epochs=8)"
   ]
  },
  {
   "cell_type": "markdown",
   "metadata": {},
   "source": [
    "2 sets of convolution + pooling layers"
   ]
  },
  {
   "cell_type": "code",
   "execution_count": 186,
   "metadata": {},
   "outputs": [
    {
     "name": "stdout",
     "output_type": "stream",
     "text": [
      "Epoch 1/8\n",
      "4575/4575 [==============================] - 63s 14ms/step - loss: 0.9496 - accuracy: 0.7220\n",
      "Epoch 2/8\n",
      "4575/4575 [==============================] - 61s 13ms/step - loss: 0.5990 - accuracy: 0.8273\n",
      "Epoch 3/8\n",
      "4575/4575 [==============================] - 61s 13ms/step - loss: 0.5486 - accuracy: 0.8416\n",
      "Epoch 4/8\n",
      "4575/4575 [==============================] - 62s 13ms/step - loss: 0.5168 - accuracy: 0.8495\n",
      "Epoch 5/8\n",
      "4575/4575 [==============================] - 62s 14ms/step - loss: 0.4925 - accuracy: 0.8564\n",
      "Epoch 6/8\n",
      "4575/4575 [==============================] - 69s 15ms/step - loss: 0.4747 - accuracy: 0.8612\n",
      "Epoch 7/8\n",
      "4575/4575 [==============================] - 67s 15ms/step - loss: 0.4582 - accuracy: 0.8656\n",
      "Epoch 8/8\n",
      "4575/4575 [==============================] - 66s 14ms/step - loss: 0.4502 - accuracy: 0.8674\n"
     ]
    },
    {
     "data": {
      "text/plain": [
       "<keras.callbacks.History at 0x16daa184d90>"
      ]
     },
     "execution_count": 186,
     "metadata": {},
     "output_type": "execute_result"
    }
   ],
   "source": [
    "# 2 sets of convolution + pooling layers\n",
    "model2 = models.Sequential()\n",
    "\n",
    "model2.add(layers.Conv2D(filters=32, kernel_size=(3, 3), activation='relu', input_shape=(32, 32, 3)))\n",
    "model2.add(layers.MaxPooling2D((2, 2)))\n",
    "\n",
    "model2.add(layers.Conv2D(64, (3, 3), activation='relu'))\n",
    "model2.add(layers.MaxPooling2D((2, 2)))\n",
    "\n",
    "model2.add(layers.Flatten()) \n",
    "model2.add(layers.Dense(64, activation='relu'))\n",
    "model2.add(layers.Dense(10, activation='softmax'))\n",
    "\n",
    "model2.compile(optimizer='adam',\n",
    "              loss='sparse_categorical_crossentropy',\n",
    "              metrics=['accuracy'])\n",
    "\n",
    "model2.fit(X_train, y_train, epochs=8)"
   ]
  },
  {
   "cell_type": "markdown",
   "metadata": {},
   "source": [
    "3 sets of convolution + pooling layers"
   ]
  },
  {
   "cell_type": "code",
   "execution_count": 85,
   "metadata": {},
   "outputs": [
    {
     "name": "stdout",
     "output_type": "stream",
     "text": [
      "Epoch 1/8\n",
      "4575/4575 [==============================] - 69s 15ms/step - loss: 0.8093 - accuracy: 0.7616\n",
      "Epoch 2/8\n",
      "4575/4575 [==============================] - 73s 16ms/step - loss: 0.5260 - accuracy: 0.8453\n",
      "Epoch 3/8\n",
      "4575/4575 [==============================] - 68s 15ms/step - loss: 0.4640 - accuracy: 0.8634\n",
      "Epoch 4/8\n",
      "4575/4575 [==============================] - 68s 15ms/step - loss: 0.4274 - accuracy: 0.8740\n",
      "Epoch 5/8\n",
      "4575/4575 [==============================] - 68s 15ms/step - loss: 0.4063 - accuracy: 0.8792\n",
      "Epoch 6/8\n",
      "4575/4575 [==============================] - 71s 16ms/step - loss: 0.3923 - accuracy: 0.8833\n",
      "Epoch 7/8\n",
      "4575/4575 [==============================] - 70s 15ms/step - loss: 0.3790 - accuracy: 0.8871\n",
      "Epoch 8/8\n",
      "4575/4575 [==============================] - 71s 16ms/step - loss: 0.3715 - accuracy: 0.8894\n",
      "813/813 [==============================] - 4s 5ms/step - loss: 0.4327 - accuracy: 0.8754\n"
     ]
    }
   ],
   "source": [
    "# 3 sets of convolution + pooling layers\n",
    "\n",
    "model3 = models.Sequential()\n",
    "\n",
    "model3.add(layers.Conv2D(filters=32, kernel_size=(3, 3), activation='relu', input_shape=(32, 32, 3)))\n",
    "model3.add(layers.MaxPooling2D((2, 2)))\n",
    "\n",
    "model3.add(layers.Conv2D(64, (3, 3), activation='relu'))\n",
    "model3.add(layers.MaxPooling2D((2, 2)))\n",
    "\n",
    "model3.add(layers.Conv2D(64, (3, 3), activation='relu'))\n",
    "model3.add(layers.MaxPooling2D((2, 2)))\n",
    "\n",
    "model3.add(layers.Flatten()) \n",
    "model3.add(layers.Dense(64, activation='relu'))\n",
    "model3.add(layers.Dense(10, activation='softmax'))\n",
    "\n",
    "model3.compile(optimizer='adam',\n",
    "              loss='sparse_categorical_crossentropy',\n",
    "              metrics=['accuracy'])\n",
    "\n",
    "model3.fit(X_train, y_train, epochs=8)\n",
    "loss_gray, accuracy_gray = model3.evaluate(X_test, y_test)"
   ]
  },
  {
   "cell_type": "code",
   "execution_count": 43,
   "metadata": {},
   "outputs": [
    {
     "name": "stdout",
     "output_type": "stream",
     "text": [
      "813/813 [==============================] - 2s 3ms/step - loss: 0.8106 - accuracy: 0.7842\n",
      "813/813 [==============================] - 3s 4ms/step - loss: 0.4988 - accuracy: 0.8707\n",
      "813/813 [==============================] - 3s 4ms/step - loss: 0.4247 - accuracy: 0.8753\n"
     ]
    },
    {
     "data": {
      "image/png": "[encoded data removed]",
      "text/plain": [
       "<Figure size 640x480 with 1 Axes>"
      ]
     },
     "metadata": {
      "needs_background": "light"
     },
     "output_type": "display_data"
    }
   ],
   "source": [
    "def compare_models(model_list, X_test, y_test):\n",
    "    lost_list, accuracy_list = [None], [None]\n",
    "    for m in model_list:\n",
    "        lost, accuracy = m.evaluate(X_test,y_test) \n",
    "        lost_list.append(lost)\n",
    "        accuracy_list.append(accuracy)\n",
    "\n",
    "    figure(figsize=(8, 6), dpi=80)\n",
    "    plt.xticks(range(1,4))\n",
    "    plt.plot(lost_list, label=\"Testing Loss\") \n",
    "    plt.plot(accuracy_list, label=\"Testing Accuracy\") \n",
    "    plt.legend()\n",
    "    plt.grid()\n",
    "    plt.title(\"Loss/Accuracy vs. number of (Conv + MaxPooling) layers\")\n",
    "    plt.xlabel(\"Number of (Conv + MaxPooling) layers --->\")\n",
    "    plt.ylabel(\"Loss/Accuracy --->\")\n",
    "    plt.show()\n",
    "\n",
    "model_list = [model1, model2, model3]\n",
    "compare_models(model_list, X_test, y_test)"
   ]
  },
  {
   "cell_type": "markdown",
   "metadata": {},
   "source": [
    "* From the graph above, the accuracy is proportional to the number of layers. \n",
    "* The time of training models is proportional to the number of layers. \n",
    "* From the perspective of time efficiency and accuracy, we will choose 3 sets of convolutional and maxPooling layers in our model. "
   ]
  },
  {
   "cell_type": "markdown",
   "metadata": {},
   "source": [
    "### 3d. Colored vs Grayscale Input"
   ]
  },
  {
   "cell_type": "code",
   "execution_count": 87,
   "metadata": {},
   "outputs": [
    {
     "name": "stdout",
     "output_type": "stream",
     "text": [
      "Epoch 1/8\n",
      "4575/4575 [==============================] - 72s 16ms/step - loss: 1.5157 - accuracy: 0.4822\n",
      "Epoch 2/8\n",
      "4575/4575 [==============================] - 71s 15ms/step - loss: 0.5857 - accuracy: 0.8304\n",
      "Epoch 3/8\n",
      "4575/4575 [==============================] - 70s 15ms/step - loss: 0.5019 - accuracy: 0.8547\n",
      "Epoch 4/8\n",
      "4575/4575 [==============================] - 70s 15ms/step - loss: 0.4563 - accuracy: 0.8663\n",
      "Epoch 5/8\n",
      "4575/4575 [==============================] - 71s 16ms/step - loss: 0.4334 - accuracy: 0.8741\n",
      "Epoch 6/8\n",
      "4575/4575 [==============================] - 71s 15ms/step - loss: 0.4140 - accuracy: 0.8780\n",
      "Epoch 7/8\n",
      "4575/4575 [==============================] - 70s 15ms/step - loss: 0.3989 - accuracy: 0.8823\n",
      "Epoch 8/8\n",
      "4575/4575 [==============================] - 69s 15ms/step - loss: 0.3871 - accuracy: 0.8864\n",
      "813/813 [==============================] - 4s 5ms/step - loss: 0.4207 - accuracy: 0.8821\n"
     ]
    }
   ],
   "source": [
    "# Create CNN model\n",
    "model_colored = models.Sequential()\n",
    "model_colored.add(layers.Conv2D(filters=32, kernel_size=(3, 3), activation='relu', input_shape=(32, 32, 3)))\n",
    "model_colored.add(layers.MaxPooling2D((2, 2)))\n",
    "\n",
    "model_colored.add(layers.Conv2D(64, (3, 3), activation='relu'))\n",
    "model_colored.add(layers.MaxPooling2D((2, 2)))\n",
    "\n",
    "model_colored.add(layers.Conv2D(64, (3, 3), activation='relu'))\n",
    "model_colored.add(layers.MaxPooling2D((2, 2)))\n",
    "\n",
    "model_colored.add(layers.Flatten()) \n",
    "model_colored.add(layers.Dense(64, activation='relu'))\n",
    "model_colored.add(layers.Dense(10, activation='softmax'))\n",
    "\n",
    "model_colored.compile(optimizer='adam',\n",
    "              loss='sparse_categorical_crossentropy',\n",
    "              metrics=['accuracy'])\n",
    "\n",
    "model_colored.fit(X_train_colored, y_train_colored, epochs=8)\n",
    "loss_colored, accuracy_colored = model_colored.evaluate(X_test_colored,y_test_colored) "
   ]
  },
  {
   "cell_type": "code",
   "execution_count": 88,
   "metadata": {},
   "outputs": [
    {
     "data": {
      "text/plain": [
       "Text(0.5, 1.0, 'Grayscaled vs. Colored Input')"
      ]
     },
     "execution_count": 88,
     "metadata": {},
     "output_type": "execute_result"
    },
    {
     "data": {
      "image/png": "[encoded data removed]",
      "text/plain": [
       "<Figure size 640x480 with 1 Axes>"
      ]
     },
     "metadata": {
      "needs_background": "light"
     },
     "output_type": "display_data"
    }
   ],
   "source": [
    "# visualize performance metrics\n",
    "figure(figsize=(8, 6), dpi=80)\n",
    "w=0.4\n",
    "x = ['Loss', 'Accuracy']\n",
    "grayscaled_metrics = [loss_gray, accuracy_gray] \n",
    "colored_metrics = [loss_colored, accuracy_colored]\n",
    "bar1 = np.arange(len(x))\n",
    "bar2 = [i + w for i in bar1]\n",
    "plt.bar(bar1, grayscaled_metrics, w, label = 'grayscaled input', color = 'lightgrey')\n",
    "plt.bar(bar2, colored_metrics, w, label = 'colored input', color = 'darkorange')\n",
    "plt.xticks(bar1 + w/2, x)\n",
    "plt.legend()\n",
    "plt.xlabel(\"metrics\")\n",
    "plt.title(\"Grayscaled vs. Colored Input\")"
   ]
  },
  {
   "cell_type": "markdown",
   "metadata": {},
   "source": [
    "## Step 4: Train & Test"
   ]
  },
  {
   "cell_type": "code",
   "execution_count": 20,
   "metadata": {},
   "outputs": [],
   "source": [
    "# Optimized model\n",
    "model = models.Sequential()\n",
    "model.add(layers.Conv2D(filters=32, kernel_size=(3, 3), activation='relu', input_shape=(32, 32, 3)))\n",
    "model.add(layers.MaxPooling2D((2, 2)))\n",
    "\n",
    "model.add(layers.Conv2D(64, (3, 3), activation='relu'))\n",
    "model.add(layers.MaxPooling2D((2, 2)))\n",
    "\n",
    "model.add(layers.Conv2D(64, (3, 3), activation='relu'))\n",
    "model.add(layers.MaxPooling2D((2, 2)))\n",
    "\n",
    "model.add(layers.Flatten()) \n",
    "model.add(layers.Dense(64, activation='relu'))\n",
    "model.add(layers.Dense(10, activation='softmax'))\n",
    "\n",
    "model.compile(optimizer='adam',\n",
    "              loss='sparse_categorical_crossentropy',\n",
    "              metrics=['accuracy'])"
   ]
  },
  {
   "cell_type": "code",
   "execution_count": 136,
   "metadata": {},
   "outputs": [
    {
     "name": "stdout",
     "output_type": "stream",
     "text": [
      "Epoch 1/8\n",
      "4575/4575 [==============================] - 66s 15ms/step - loss: 0.3419 - accuracy: 0.8998\n",
      "Epoch 2/8\n",
      "4575/4575 [==============================] - 67s 15ms/step - loss: 0.3383 - accuracy: 0.9006\n",
      "Epoch 3/8\n",
      "4575/4575 [==============================] - 67s 15ms/step - loss: 0.3320 - accuracy: 0.9018\n",
      "Epoch 4/8\n",
      "4575/4575 [==============================] - 67s 15ms/step - loss: 0.3285 - accuracy: 0.9035\n",
      "Epoch 5/8\n",
      "4575/4575 [==============================] - 66s 15ms/step - loss: 0.3250 - accuracy: 0.9042\n",
      "Epoch 6/8\n",
      "4575/4575 [==============================] - 67s 15ms/step - loss: 0.3190 - accuracy: 0.9061\n",
      "Epoch 7/8\n",
      "4575/4575 [==============================] - 68s 15ms/step - loss: 0.3190 - accuracy: 0.9057\n",
      "Epoch 8/8\n",
      "4575/4575 [==============================] - 67s 15ms/step - loss: 0.3128 - accuracy: 0.9071\n"
     ]
    },
    {
     "data": {
      "text/plain": [
       "[0.40529149770736694, 0.8924892544746399]"
      ]
     },
     "execution_count": 136,
     "metadata": {},
     "output_type": "execute_result"
    }
   ],
   "source": [
    "model.fit(X_train, y_train, epochs=8)"
   ]
  },
  {
   "cell_type": "code",
   "execution_count": 172,
   "metadata": {},
   "outputs": [
    {
     "name": "stdout",
     "output_type": "stream",
     "text": [
      "Model: \"sequential_7\"\n",
      "_________________________________________________________________\n",
      "Layer (type)                 Output Shape              Param #   \n",
      "=================================================================\n",
      "conv2d_15 (Conv2D)           (None, 30, 30, 32)        896       \n",
      "_________________________________________________________________\n",
      "max_pooling2d_15 (MaxPooling (None, 15, 15, 32)        0         \n",
      "_________________________________________________________________\n",
      "conv2d_16 (Conv2D)           (None, 13, 13, 64)        18496     \n",
      "_________________________________________________________________\n",
      "max_pooling2d_16 (MaxPooling (None, 6, 6, 64)          0         \n",
      "_________________________________________________________________\n",
      "conv2d_17 (Conv2D)           (None, 4, 4, 64)          36928     \n",
      "_________________________________________________________________\n",
      "max_pooling2d_17 (MaxPooling (None, 2, 2, 64)          0         \n",
      "_________________________________________________________________\n",
      "flatten_7 (Flatten)          (None, 256)               0         \n",
      "_________________________________________________________________\n",
      "dense_14 (Dense)             (None, 64)                16448     \n",
      "_________________________________________________________________\n",
      "dense_15 (Dense)             (None, 10)                650       \n",
      "=================================================================\n",
      "Total params: 73,418\n",
      "Trainable params: 73,418\n",
      "Non-trainable params: 0\n",
      "_________________________________________________________________\n"
     ]
    }
   ],
   "source": [
    "model.summary()"
   ]
  },
  {
   "cell_type": "markdown",
   "metadata": {},
   "source": [
    "#### a. Accuracy of cropped image with single digit"
   ]
  },
  {
   "cell_type": "code",
   "execution_count": 174,
   "metadata": {},
   "outputs": [
    {
     "name": "stdout",
     "output_type": "stream",
     "text": [
      "Loss of single digit: 0.40529149770736694\n",
      "Accuracy of single digit: 0.8924892544746399\n"
     ]
    }
   ],
   "source": [
    "loss, accuracy = model.evaluate(X_test,y_test, verbose = 0)\n",
    "print(\"Loss of single digit:\", loss)\n",
    "print(\"Accuracy of single digit:\", accuracy)"
   ]
  },
  {
   "cell_type": "code",
   "execution_count": 175,
   "metadata": {},
   "outputs": [],
   "source": [
    "# generate predictions and save model\n",
    "y_pred = np.array([np.argmax(y) for y in model.predict(X_test)])"
   ]
  },
  {
   "cell_type": "markdown",
   "metadata": {},
   "source": [
    "#### b. Accuracy of predicting using original image"
   ]
  },
  {
   "cell_type": "code",
   "execution_count": 178,
   "metadata": {},
   "outputs": [],
   "source": [
    "# group data by y_pred, y_test and img_number\n",
    "grouped_dict_pred = {}\n",
    "grouped_dict_test = {}\n",
    "\n",
    "for i in range(len(y_pred)):\n",
    "    img = img_number[i]\n",
    "    if img in grouped_dict_test:\n",
    "        grouped_dict_test[img].append(y_test[i])\n",
    "    else:\n",
    "        grouped_dict_test[img] = [y_test[i]]\n",
    "    \n",
    "    if img in grouped_dict_pred:\n",
    "        grouped_dict_pred[img].append(y_pred[i])\n",
    "    else:\n",
    "        grouped_dict_pred[img] = [y_pred[i]]"
   ]
  },
  {
   "cell_type": "code",
   "execution_count": 182,
   "metadata": {},
   "outputs": [
    {
     "name": "stdout",
     "output_type": "stream",
     "text": [
      "Accuracy for prediction on the original image:  0.8028136531365314\n"
     ]
    }
   ],
   "source": [
    "# count successful predicted images and calculate the accuracy\n",
    "cnt = 0\n",
    "for i in img_number:\n",
    "    if grouped_dict_pred[i] == grouped_dict_test[i]:\n",
    "        cnt += 1\n",
    "\n",
    "#Accuracy!\n",
    "acc = cnt / len(img_number)\n",
    "wrong_cnt = len(img_number) - cnt\n",
    "\n",
    "print(\"Accuracy for prediction on the original image: \", acc)"
   ]
  },
  {
   "cell_type": "code",
   "execution_count": 176,
   "metadata": {},
   "outputs": [
    {
     "data": {
      "image/png": "[encoded data removed]",
      "text/plain": [
       "<Figure size 640x480 with 1 Axes>"
      ]
     },
     "metadata": {
      "needs_background": "light"
     },
     "output_type": "display_data"
    }
   ],
   "source": [
    "# add a bar plot for grouped & separate prediction\n",
    "fig = plt.figure(figsize=(8, 6), dpi=80)\n",
    "x = ['Cropped Single Digit', 'Orignal']\n",
    "y = [accuracy, acc]\n",
    "plt.bar(x, y, color =['darkorange', 'lightblue'],\n",
    "        width = 0.5, align='center')\n",
    "plt.title(\"Prediction Accuracy of Cropped Single Digit vs Original Image\")\n",
    "plt.text(-0.08, 0.6, round(y[0], 2))\n",
    "plt.text(0.92, 0.6, round(y[1], 2))\n",
    "plt.show()"
   ]
  },
  {
   "cell_type": "markdown",
   "metadata": {},
   "source": [
    "#### c.Prediction Examples"
   ]
  },
  {
   "cell_type": "markdown",
   "metadata": {},
   "source": [
    "##### a. Cropped image, single digit"
   ]
  },
  {
   "cell_type": "code",
   "execution_count": 146,
   "metadata": {},
   "outputs": [
    {
     "data": {
      "image/png": "[encoded data removed]",
      "text/plain": [
       "<Figure size 432x288 with 1 Axes>"
      ]
     },
     "metadata": {
      "needs_background": "light"
     },
     "output_type": "display_data"
    }
   ],
   "source": [
    "# Plot cropped image with predicted& actual labels\n",
    "def plot_cropped_image(X, y, y_pred, idx):\n",
    "    plt.imshow(X[idx])\n",
    "    label = \"actual:\" + str(int(y[idx])) + \"\\npredicted:\" + str(y_pred[idx])\n",
    "    plt.xlabel(label)\n",
    "\n",
    "image_index = 6\n",
    "plot_cropped_image(X_test, y_test, y_pred, image_index)"
   ]
  },
  {
   "cell_type": "markdown",
   "metadata": {},
   "source": [
    "##### b. Original image, one or more digits"
   ]
  },
  {
   "cell_type": "code",
   "execution_count": 149,
   "metadata": {},
   "outputs": [],
   "source": [
    "import matplotlib.pyplot as plt\n",
    "import matplotlib.image as img\n",
    "\n",
    "# Plot original image with predicted& actual labels\n",
    "def display_image_with_pred(cnn_model, img_index, local_path):\n",
    "    mode = \"test\"\n",
    "    data = CropImage(local_path, mode)\n",
    "    img_dir = data.get_cropped_image_path(img_index - 1)\n",
    "    X = get_cropped_images(img_dir)\n",
    "    y = get_labels(data, img_index - 1)\n",
    "    \n",
    "    y_pred = [np.argmax(y) for y in cnn_model.predict(np.array(X))]\n",
    "    \n",
    "    path = local_path + \"/\" + mode+\"/\" + str(img_index) + \".png\"\n",
    "    plt.imshow(img.imread(path))\n",
    "    \n",
    "    conclusion = \"Correct Prediction\" if y == y_pred else \"Incorrect Prediction\"\n",
    "    label = \"actual: \" + str(y) + \"\\npredicted: \" + str(y_pred) + \"\\n\" + conclusion\n",
    "    plt.xlabel(label)\n",
    "\n",
    "    title = \"{}.png\".format(img_index)\n",
    "    plt.title(title)"
   ]
  },
  {
   "cell_type": "code",
   "execution_count": 151,
   "metadata": {},
   "outputs": [
    {
     "data": {
      "image/png": "[encoded data removed]",
      "text/plain": [
       "<Figure size 432x288 with 1 Axes>"
      ]
     },
     "metadata": {
      "needs_background": "light"
     },
     "output_type": "display_data"
    }
   ],
   "source": [
    "# Example of a Correct Prediction\n",
    "img_index = 22 \n",
    "display_image_with_pred(model, img_index, local_path)"
   ]
  },
  {
   "cell_type": "code",
   "execution_count": 152,
   "metadata": {},
   "outputs": [
    {
     "data": {
      "image/png": "[encoded data removed]",
      "text/plain": [
       "<Figure size 432x288 with 1 Axes>"
      ]
     },
     "metadata": {
      "needs_background": "light"
     },
     "output_type": "display_data"
    }
   ],
   "source": [
    "# Example of a Incorrect Prediction\n",
    "img_index = 1\n",
    "display_image_with_pred(cnn_model, img_index, local_path)"
   ]
  },
  {
   "cell_type": "markdown",
   "metadata": {},
   "source": [
    "## Step 5: Results and discussion"
   ]
  },
  {
   "cell_type": "markdown",
   "metadata": {},
   "source": [
    "### 5a. Confusion Matrix"
   ]
  },
  {
   "cell_type": "code",
   "execution_count": 153,
   "metadata": {},
   "outputs": [
    {
     "data": {
      "image/png": "[encoded data removed]",
      "text/plain": [
       "<Figure size 432x288 with 2 Axes>"
      ]
     },
     "metadata": {
      "needs_background": "light"
     },
     "output_type": "display_data"
    }
   ],
   "source": [
    "from sklearn.metrics import ConfusionMatrixDisplay\n",
    "from sklearn.metrics import confusion_matrix\n",
    "import matplotlib.pyplot as plt\n",
    "\n",
    "labels = [\"0\", \"1\", \"2\", \"3\", \"4\", \"5\", \"6\", \"7\", \"8\", \"9\"]\n",
    "cm = confusion_matrix(y_test, y_pred)\n",
    "\n",
    "disp = ConfusionMatrixDisplay(confusion_matrix=cm, display_labels=labels)\n",
    "\n",
    "disp.plot(cmap=plt.cm.Blues)\n",
    "plt.show()"
   ]
  },
  {
   "cell_type": "markdown",
   "metadata": {},
   "source": [
    "### 5b. Accuracy, Precision, Recall, F1 score"
   ]
  },
  {
   "cell_type": "markdown",
   "metadata": {},
   "source": [
    "$ Precision = \\frac{TP}{TP+FP} $  \n",
    "\n",
    "$ Recall = \\frac{TP}{TP+FN} $  \n",
    "\n",
    "$ F1 = \\frac{2*Precision*Recall}{Precision+Recall} = \\frac{2*TP}{2*TP+FP+FN} $"
   ]
  },
  {
   "cell_type": "code",
   "execution_count": 154,
   "metadata": {},
   "outputs": [
    {
     "data": {
      "text/plain": [
       "(0.8906130983255091, 0.8807476313191989, 0.8849899288715173, None)"
      ]
     },
     "execution_count": 154,
     "metadata": {},
     "output_type": "execute_result"
    }
   ],
   "source": [
    "# Precision, recall, F1-score\n",
    "from sklearn.metrics import precision_recall_fscore_support\n",
    "precision_recall_fscore_support(y_test, y_pred, average='macro')"
   ]
  }
 ],
 "metadata": {
  "interpreter": {
   "hash": "31f2aee4e71d21fbe5cf8b01ff0e069b9275f58929596ceb00d14d90e3e16cd6"
  },
  "kernelspec": {
   "display_name": "Python 3 (ipykernel)",
   "language": "python",
   "name": "python3"
  },
  "language_info": {
   "codemirror_mode": {
    "name": "ipython",
    "version": 3
   },
   "file_extension": ".py",
   "mimetype": "text/x-python",
   "name": "python",
   "nbconvert_exporter": "python",
   "pygments_lexer": "ipython3",
   "version": "3.8.2"
  }
 },
 "nbformat": 4,
 "nbformat_minor": 2
}
