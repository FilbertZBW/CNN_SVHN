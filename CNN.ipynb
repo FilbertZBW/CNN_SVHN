{
 "cells": [
  {
   "cell_type": "markdown",
   "metadata": {},
   "source": [
    "# Steps\n",
    "\n",
    "1. ## Import SVHN dataset\n",
    "2. ## Data preprocessing\n",
    "   - Check data type\n",
    "   - Convert to float for image and to int for label\n",
    "   - Normalize the data\n",
    "   - One-hot encoding for labels\n",
    "   - Data augmentation\n",
    "      > augment the images in the dataset, by randomly rotating them, zooming them in and out, shifting them up and down\n",
    " \n",
    " <br>\n",
    " \n",
    " 3. ## Create CNN model\n",
    "\n",
    " 4. ## Train & Test\n",
    "\n",
    " 5. ## Results and discussion\n"
   ]
  },
  {
   "cell_type": "code",
   "execution_count": 1,
   "metadata": {},
   "outputs": [
    {
     "name": "stdout",
     "output_type": "stream",
     "text": [
      "bbox\n",
      "name\n"
     ]
    }
   ],
   "source": [
    "# load dataset\n",
    "import h5py\n",
    "\n",
    "# data is loaded from local path, please update local_path according to your own dataset location\n",
    "local_path = \"C:/Users/kaili/OneDrive/Desktop/CS6140 ML/Project Dataset/\"\n",
    "\n",
    "# load digitStruct.mat\n",
    "data_path = local_path + \"train/digitStruct.mat\"\n",
    "f = h5py.File(data_path, 'r')\n",
    "\n",
    "def printname(name):\n",
    "    print(name)\n",
    "\n",
    "# get names of h5py groups within digitStruct\n",
    "f['digitStruct'].visit(printname) # digitStruct.mat contains information of bbox, name of the images\n",
    "# ref: https://docs.h5py.org/en/stable/quick.html"
   ]
  },
  {
   "cell_type": "code",
   "execution_count": 2,
   "metadata": {
    "pycharm": {
     "name": "#%%\n"
    }
   },
   "outputs": [],
   "source": [
    "# get dataset for each group\n",
    "digitStructName = f['digitStruct']['name']\n",
    "digitStructBbox = f['digitStruct']['bbox']\n",
    "\n",
    "# get bbox for each instance. bbox is a library describing the bounder box position\n",
    "def get_bbox(n):\n",
    "    bbox = {}\n",
    "    bb = digitStructBbox[n].item()\n",
    "    def bbox_helper(attr_type):\n",
    "        attr = f[bb][attr_type]\n",
    "        if len(attr) > 1:\n",
    "            pos = [int(f[attr[j].item()][0][0]) for j in range(len(attr))]\n",
    "        else:\n",
    "            pos = [attr[0][0]]\n",
    "\n",
    "        return pos\n",
    "    bbox['label'] = bbox_helper('label')\n",
    "    bbox['height'] = bbox_helper('height')\n",
    "    bbox['left'] = bbox_helper('left')\n",
    "    bbox['top'] = bbox_helper('top')\n",
    "    bbox['width'] = bbox_helper('width')\n",
    "    return bbox\n",
    "\n",
    "# get file name for each instance. File names are indexes starting from 1\n",
    "def get_name(n):\n",
    "    name = ''.join([chr(v[0]) for v in f[(digitStructName[n][0])]])\n",
    "    return name"
   ]
  },
  {
   "cell_type": "code",
   "execution_count": 3,
   "metadata": {
    "pycharm": {
     "name": "#%%\n"
    }
   },
   "outputs": [
    {
     "name": "stdout",
     "output_type": "stream",
     "text": [
      "{'label': [1, 2, 10], 'height': [37, 37, 37], 'left': [50, 66, 85], 'top': [7, 7, 11], 'width': [15, 21, 27]}\n",
      "98.png\n"
     ]
    },
    {
     "data": {
      "image/png": "[encoded data removed]",
      "text/plain": [
       "<IPython.core.display.Image object>"
      ]
     },
     "execution_count": 3,
     "metadata": {},
     "output_type": "execute_result"
    }
   ],
   "source": [
    "# test using first image\n",
    "print(get_bbox(97))\n",
    "print(get_name(97))\n",
    "from IPython.display import Image\n",
    "img_path_test = local_path + \"/train/98.png\"\n",
    "Image(filename=img_path_test)"
   ]
  },
  {
   "cell_type": "code",
   "execution_count": 4,
   "metadata": {
    "pycharm": {
     "name": "#%%\n"
    }
   },
   "outputs": [],
   "source": [
    "# store bbox and file name into dict\n",
    "# image_dict = {}\n",
    "# for i in range(len(digitStructName)):\n",
    "#     file_name = get_name(i)\n",
    "#     image_dict[file_name] = get_bbox(i)"
   ]
  },
  {
   "cell_type": "code",
   "execution_count": 5,
   "metadata": {
    "pycharm": {
     "name": "#%%\n"
    }
   },
   "outputs": [],
   "source": [
    "import torchvision\n",
    "import torchvision.transforms as transforms\n",
    "import cv2\n",
    "import os\n",
    "\n",
    "# test using first image\n",
    "#digit_dict = image_dict['1.png']\n",
    "digit_dict = get_bbox(0)\n",
    "image_name = get_name(0)\n",
    "img_path_crop_test = local_path + 'train/' + image_name\n",
    "image = cv2.imread(img_path_crop_test)\n",
    "n_drop = 0\n",
    "\n",
    "# for each label, crop the image\n",
    "for label_index in range(len(digit_dict['label'])):\n",
    "    label = int(digit_dict['label'][label_index])\n",
    "    # label 0 is represented using 10\n",
    "    if label == 10:\n",
    "        label = 0\n",
    "\n",
    "    # get crop position\n",
    "    left = int(digit_dict['left'][label_index])\n",
    "    upper = int(digit_dict['top'][label_index])\n",
    "    right = int(left + digit_dict['width'][label_index])\n",
    "    lower = int(upper + digit_dict['height'][label_index])\n",
    "\n",
    "    # invalid data\n",
    "    if left < 0 or upper < 0:\n",
    "        n_drop += 1\n",
    "        continue\n",
    "\n",
    "    # crop image\n",
    "    img = image[upper:lower, left:right, :]\n",
    "\n",
    "    # transpose image into size 32 * 32 grayscale tensor format\n",
    "    transformed_img = transforms.Compose(\n",
    "            [transforms.ToPILImage(),\n",
    "             transforms.Grayscale(1),\n",
    "             transforms.Resize((32, 32)),\n",
    "             transforms.ToTensor()])(img)\n",
    "    # ref: http://man.hubwiz.com/docset/torchvision.docset/Contents/Resources/Documents/transforms.html\n",
    "\n",
    "    process_folder = local_path + 'process/'\n",
    "    # check whether the process folder exists or not\n",
    "    if not os.path.exists(process_folder):\n",
    "        # create a new directory because it does not exist\n",
    "        os.makedirs(process_folder)\n",
    "        print(\"Created the process folder to store preprocessed images\")\n",
    "\n",
    "    # store image as original file name + _ + label + _ + label index, saved in process folder\n",
    "    save_file_path = '_'.join([process_folder + image_name.split('.')[0], str(label_index), str(label) +'.png'])\n",
    "\n",
    "    # save cropped image\n",
    "    torchvision.utils.save_image(transformed_img, save_file_path)"
   ]
  },
  {
   "cell_type": "markdown",
   "metadata": {},
   "source": [
    "### PLEASE RUN FROM HERE"
   ]
  },
  {
   "cell_type": "code",
   "execution_count": 6,
   "metadata": {},
   "outputs": [],
   "source": [
    "import h5py\n",
    "import torchvision\n",
    "import torchvision.transforms as transforms\n",
    "import cv2\n",
    "import os\n",
    "from IPython.display import Image\n"
   ]
  },
  {
   "cell_type": "code",
   "execution_count": 7,
   "metadata": {},
   "outputs": [],
   "source": [
    "# following class are used for image crop and get cropped image path \n",
    "class CropImage(object):\n",
    "    def __init__ (self, local_path, mode):\n",
    "        # load digitStruct.mat\n",
    "        self.local_path = local_path\n",
    "        self.mode = mode\n",
    "        if mode == \"train\":\n",
    "            self.f = h5py.File(local_path + \"/train/digitStruct.mat\", 'r')\n",
    "        elif mode == \"test\":\n",
    "            self.f = h5py.File(local_path + \"/test/digitStruct.mat\", 'r')\n",
    "        # get dataset for each group\n",
    "        self.digitStructName = self.f['digitStruct']['name']\n",
    "        self.digitStructBbox = self.f['digitStruct']['bbox']\n",
    "        self.file_path_dict = {}\n",
    "        \n",
    "    # get bbox for each instance. bbox is a library describing the bounder box position\n",
    "    def get_bbox(self, n):\n",
    "        bbox = {}\n",
    "        bb = self.digitStructBbox[n].item()\n",
    "        def bbox_helper(attr_type):\n",
    "            attr = self.f[bb][attr_type]\n",
    "            if len(attr) > 1:\n",
    "                pos = [int(self.f[attr[j].item()][0][0]) for j in range(len(attr))]\n",
    "            else:\n",
    "                pos = [attr[0][0]]\n",
    "\n",
    "            return pos\n",
    "        bbox['label'] = bbox_helper('label')\n",
    "        bbox['height'] = bbox_helper('height')\n",
    "        bbox['left'] = bbox_helper('left')\n",
    "        bbox['top'] = bbox_helper('top')\n",
    "        bbox['width'] = bbox_helper('width')\n",
    "        return bbox\n",
    "\n",
    "    # get file name for each instance. File names are indexes starting from 1\n",
    "    def get_name(self, n):\n",
    "        name = ''.join([chr(v[0]) for v in self.f[(self.digitStructName[n][0])]])\n",
    "        return name\n",
    "\n",
    "    def save_path_to_dict(self, original_file_name, save_file_path, img):\n",
    "        # save path to dict\n",
    "        if original_file_name not in self.file_path_dict:\n",
    "            self.file_path_dict[original_file_name] = [save_file_path]\n",
    "        elif save_file_path not in self.file_path_dict[original_file_name]:\n",
    "            self.file_path_dict[original_file_name].append(save_file_path)\n",
    "        # save cropped image\n",
    "        torchvision.utils.save_image(img, save_file_path)\n",
    "\n",
    "    # crop image for each instance, also save cropped image name to the dict\n",
    "    def crop_image(self, n):\n",
    "        n_drop = 0\n",
    "        # for each label, crop the image\n",
    "        digit_dict = self.get_bbox(n)\n",
    "        \n",
    "        for label_index in range(len(digit_dict['label'])):\n",
    "            label = int(digit_dict['label'][label_index])\n",
    "            # label 0 is represented using 10\n",
    "            if label == 10:\n",
    "                label = 0\n",
    "\n",
    "            # get crop position\n",
    "            left = int(digit_dict['left'][label_index])\n",
    "            upper = int(digit_dict['top'][label_index])\n",
    "            right = int(left + digit_dict['width'][label_index])\n",
    "            lower = int(upper + digit_dict['height'][label_index])\n",
    "\n",
    "            # invalid data\n",
    "            if left < 0 or upper < 0:\n",
    "                n_drop += 1\n",
    "                continue\n",
    "\n",
    "            # crop image\n",
    "            img_path_crop_test = self.local_path + '/train/' + self.get_name(n)\n",
    "            image = cv2.imread(img_path_crop_test)\n",
    "            img = image[upper:lower, left:right, :]\n",
    "\n",
    "            # transpose image into size 32 * 32 grayscale tensor format\n",
    "            transformed_img = transforms.Compose(\n",
    "                    [transforms.ToPILImage(),\n",
    "                     transforms.Grayscale(1),\n",
    "                     transforms.Resize((32, 32)),\n",
    "                     transforms.ToTensor()])(img)\n",
    "            # ref: http://man.hubwiz.com/docset/torchvision.docset/Contents/Resources/Documents/transforms.html\n",
    "\n",
    "            process_folder = self.local_path + '/process/'\n",
    "            # check whether the process folder exists or not\n",
    "            if not os.path.exists(process_folder):\n",
    "                # create a new directory because it does not exist\n",
    "                os.makedirs(process_folder)\n",
    "                print(\"Created the process folder to store preprocessed images\")\n",
    "\n",
    "            # store image as original file name + _ + label + _ + label index, saved in process folder\n",
    "            original_file_name = self.get_name(n).split('.')[0]\n",
    "\n",
    "            file_head = '_'.join([process_folder + original_file_name, str(label_index), str(label)])\n",
    "            file_tail = '.png'\n",
    "            inverted_file_tail = '_iv.png'\n",
    "\n",
    "            # invert grayscale image to get a new image, by doing so we could expande our training data set\n",
    "            if self.mode == \"train\":\n",
    "                inverted_transformed_img = transforms.functional.invert(transformed_img)\n",
    "                self.save_path_to_dict(original_file_name, file_head+inverted_file_tail, inverted_transformed_img)\n",
    "        \n",
    "            self.save_path_to_dict(original_file_name, file_head+file_tail, transformed_img)\n",
    "    \n",
    "    # get a list of cropped image file path\n",
    "    def get_cropped_image_path(self, n):\n",
    "        curr_path = self.local_path + \"/train\" if self.mode == \"train\" else self.local_path + \"/test\"\n",
    "        # check the file name is out of range, max is 33401 for train, 13065 for test\n",
    "        if n + 1 not in self.file_path_dict:\n",
    "            if n + 3 >= len(os.listdir(curr_path)):\n",
    "                print(\"Please check the file name!\", n) ### changed\n",
    "            else:\n",
    "                # havent been processed yet\n",
    "                self.crop_image(n)\n",
    "        # return a list of file path name of the cropped file \n",
    "        return self.file_path_dict[str(n+1)]\n"
   ]
  },
  {
   "cell_type": "code",
   "execution_count": 8,
   "metadata": {},
   "outputs": [
    {
     "data": {
      "text/plain": [
       "'\\nci_train = CropImage(local_path=\"../dataset\", mode=\"train\")\\nci_train.get_cropped_image_path(78)\\n\\nci_test = CropImage(local_path=\"../dataset\", mode=\"test\")\\nci_test.get_cropped_image_path(3)\\n'"
      ]
     },
     "execution_count": 8,
     "metadata": {},
     "output_type": "execute_result"
    }
   ],
   "source": [
    "# test functionality\n",
    "# replace \"local_path\" to your real local path before test, e.g. \"/Users/evelynhsu/CS6140\"\n",
    "'''\n",
    "ci_train = CropImage(local_path=\"../dataset\", mode=\"train\")\n",
    "ci_train.get_cropped_image_path(78)\n",
    "\n",
    "ci_test = CropImage(local_path=\"../dataset\", mode=\"test\")\n",
    "ci_test.get_cropped_image_path(3)\n",
    "'''"
   ]
  },
  {
   "cell_type": "markdown",
   "metadata": {},
   "source": [
    "# Update"
   ]
  },
  {
   "cell_type": "code",
   "execution_count": 9,
   "metadata": {},
   "outputs": [],
   "source": [
    "import os\n",
    "import numpy as np\n",
    "import glob"
   ]
  },
  {
   "cell_type": "code",
   "execution_count": 12,
   "metadata": {},
   "outputs": [],
   "source": [
    "\n",
    "def create_input(local_path, mode):\n",
    "    X, y = [], []\n",
    "    data = CropImage(local_path, mode)\n",
    "\n",
    "    dataset_path = local_path + \"/\" + mode\n",
    "    total_image_num = len(glob.glob1(dataset_path,\"*.png\"))\n",
    "    print(\"Total image num: \", total_image_num)\n",
    "\n",
    "    for idx in range(total_image_num): #####\n",
    "        image_filename = idx + 1\n",
    "\n",
    "        try:\n",
    "            cropped_img_dir_list = data.get_cropped_image_path(image_filename)\n",
    "\n",
    "            if len(cropped_img_dir_list) != len(data.get_bbox(image_filename)['label'] * 2):\n",
    "                print(\"1. Skipped, Number of cropped image is inconsistent with labels, img number:\", image_filename, data.get_bbox(image_filename)['label'])\n",
    "                continue\n",
    "\n",
    "            for cropped_img_dir in cropped_img_dir_list:\n",
    "                cropped_img = cv2.imread(cropped_img_dir)\n",
    "                X.append(cropped_img)\n",
    "\n",
    "            for l in data.get_bbox(image_filename)['label']:\n",
    "                if l == 10:\n",
    "                    y += [0] * 2\n",
    "                else:\n",
    "                    y += [l] * 2\n",
    "\n",
    "        except:\n",
    "            print(\"2. Skipped, No cropped image output, img number:\", image_filename)\n",
    "            continue\n",
    "    \n",
    "    return np.array(X), np.array(y)"
   ]
  },
  {
   "cell_type": "code",
   "execution_count": 13,
   "metadata": {},
   "outputs": [],
   "source": [
    "# local_path = \"C:/Users/kaili/OneDrive/Desktop/CS6140 ML/Project Dataset\"\n",
    "# mode = \"train\"\n",
    "# img = 97\n",
    "# data = CropImage(local_path, mode)\n",
    "# cropped_img_dir_list = data.get_cropped_image_path(img) \n",
    "# print(cropped_img_dir_list)\n",
    "# print(data.get_bbox(img)['label'])"
   ]
  },
  {
   "cell_type": "code",
   "execution_count": 14,
   "metadata": {},
   "outputs": [
    {
     "name": "stdout",
     "output_type": "stream",
     "text": [
      "Total image num:  33402\n",
      "1. Skipped, Number of cropped image is inconsistent with labels, img number: 251 [3, 7, 10]\n",
      "1. Skipped, Number of cropped image is inconsistent with labels, img number: 723 [2, 7]\n",
      "2. Skipped, No cropped image output, img number: 1393\n",
      "1. Skipped, Number of cropped image is inconsistent with labels, img number: 3099 [1, 2, 6]\n",
      "1. Skipped, Number of cropped image is inconsistent with labels, img number: 5311 [2, 10, 8]\n",
      "2. Skipped, No cropped image output, img number: 6876\n",
      "1. Skipped, Number of cropped image is inconsistent with labels, img number: 9356 [8, 2, 5]\n",
      "2. Skipped, No cropped image output, img number: 11860\n",
      "2. Skipped, No cropped image output, img number: 13144\n",
      "1. Skipped, Number of cropped image is inconsistent with labels, img number: 15124 [3, 5]\n",
      "1. Skipped, Number of cropped image is inconsistent with labels, img number: 18276 [1, 1]\n",
      "1. Skipped, Number of cropped image is inconsistent with labels, img number: 18392 [3, 1]\n",
      "1. Skipped, Number of cropped image is inconsistent with labels, img number: 19382 [1, 7]\n",
      "1. Skipped, Number of cropped image is inconsistent with labels, img number: 20539 [4, 8]\n",
      "1. Skipped, Number of cropped image is inconsistent with labels, img number: 20900 [9, 3]\n",
      "1. Skipped, Number of cropped image is inconsistent with labels, img number: 20914 [2, 7]\n",
      "1. Skipped, Number of cropped image is inconsistent with labels, img number: 22441 [1, 10, 6]\n",
      "1. Skipped, Number of cropped image is inconsistent with labels, img number: 23904 [1, 7]\n",
      "1. Skipped, Number of cropped image is inconsistent with labels, img number: 26569 [5, 1]\n",
      "1. Skipped, Number of cropped image is inconsistent with labels, img number: 27637 [3, 3]\n",
      "1. Skipped, Number of cropped image is inconsistent with labels, img number: 27808 [1, 5]\n",
      "1. Skipped, Number of cropped image is inconsistent with labels, img number: 28512 [1, 3]\n",
      "1. Skipped, Number of cropped image is inconsistent with labels, img number: 28797 [1, 5]\n",
      "1. Skipped, Number of cropped image is inconsistent with labels, img number: 28817 [2, 1]\n",
      "1. Skipped, Number of cropped image is inconsistent with labels, img number: 28849 [3, 1]\n",
      "1. Skipped, Number of cropped image is inconsistent with labels, img number: 29758 [1, 10]\n",
      "1. Skipped, Number of cropped image is inconsistent with labels, img number: 30509 [3, 2, 7]\n",
      "2. Skipped, No cropped image output, img number: 30952\n",
      "1. Skipped, Number of cropped image is inconsistent with labels, img number: 32168 [6, 7]\n",
      "1. Skipped, Number of cropped image is inconsistent with labels, img number: 32431 [9, 7]\n",
      "Please check the file name! 33401\n",
      "2. Skipped, No cropped image output, img number: 33401\n",
      "Please check the file name! 33402\n",
      "2. Skipped, No cropped image output, img number: 33402\n",
      "(146378, 32, 32, 3) (146378,)\n"
     ]
    }
   ],
   "source": [
    "# Create Train datasets \n",
    "# ETA 38min\n",
    "local_path = \"C:/Users/kaili/OneDrive/Desktop/CS6140 ML/Project Dataset\"\n",
    "mode = \"train\"\n",
    "X_train, y_train = create_input(local_path, mode)\n",
    "print(X_train.shape, y_train.shape)"
   ]
  },
  {
   "cell_type": "code",
   "execution_count": 15,
   "metadata": {},
   "outputs": [
    {
     "data": {
      "text/plain": [
       "'\\nlocal_path = \"C:/Users/kaili/OneDrive/Desktop/CS6140 ML/Project Dataset\"\\nmode = \"test\"\\nimg = 2\\ndata2 = CropImage(local_path, mode)\\ncropped_img_dir_list = data2.get_cropped_image_path(img) \\nprint(cropped_img_dir_list)\\nprint(data2.get_bbox(img)[\\'label\\'])\\n'"
      ]
     },
     "execution_count": 15,
     "metadata": {},
     "output_type": "execute_result"
    }
   ],
   "source": [
    "'''\n",
    "local_path = \"C:/Users/kaili/OneDrive/Desktop/CS6140 ML/Project Dataset\"\n",
    "mode = \"test\"\n",
    "img = 2\n",
    "data2 = CropImage(local_path, mode)\n",
    "cropped_img_dir_list = data2.get_cropped_image_path(img) \n",
    "print(cropped_img_dir_list)\n",
    "print(data2.get_bbox(img)['label'])\n",
    "'''"
   ]
  },
  {
   "cell_type": "code",
   "execution_count": 16,
   "metadata": {},
   "outputs": [],
   "source": [
    "# # Create Test datasets\n",
    "# local_path = \"C:/Users/kaili/OneDrive/Desktop/CS6140 ML/Project Dataset\"\n",
    "# mode = \"test\"\n",
    "# X_test, y_test = create_input(local_path, mode)\n",
    "# print(X_test.shape, y_test.shape)"
   ]
  },
  {
   "cell_type": "markdown",
   "metadata": {},
   "source": [
    "Sequential model from keras\n",
    "\n",
    "1. CNN Class - modify numbers & order of layers according to information loss?\n",
    "    e.g. \n",
    "    Class CNN():\n",
    "        def __init__(self, layer_num=None, layer_order=None):\n",
    "            pass\n",
    "\n",
    "2. for all training instance:\n",
    "        for all numbers in instance:\n",
    "            input to the current CNN model\n",
    "\n",
    "\n",
    "\n",
    "3. Model evaluation:\n",
    "    a. confusion matrix:\n",
    "        0  1  2  3  4 5 6 7 8 9\n",
    "    0\n",
    "    1\n",
    "    2\n",
    "    ...\n",
    "\n",
    "    b. Feature Maps - output of each layers"
   ]
  },
  {
   "cell_type": "code",
   "execution_count": 18,
   "metadata": {},
   "outputs": [],
   "source": [
    "import tensorflow as tf\n",
    "from tensorflow.keras import datasets, layers, models\n",
    "import matplotlib.pyplot as plt\n",
    "import numpy as np"
   ]
  },
  {
   "cell_type": "code",
   "execution_count": 23,
   "metadata": {},
   "outputs": [],
   "source": [
    "# Create CNN model\n",
    "cnn_model = models.Sequential()\n",
    "cnn_model.add(layers.Conv2D(filters=32, kernel_size=(3, 3), activation='relu', input_shape=(32, 32, 3)))\n",
    "cnn_model.add(layers.MaxPooling2D((2, 2)))\n",
    "\n",
    "cnn_model.add(layers.Conv2D(64, (3, 3), activation='relu'))\n",
    "cnn_model.add(layers.MaxPooling2D((2, 2)))\n",
    "\n",
    "# cnn_model.add(layers.Conv2D(64, (3, 3), activation='relu')) # w/o 0.35 accuracy 0.8949\n",
    "\n",
    "cnn_model.add(layers.Flatten()) \n",
    "cnn_model.add(layers.Dense(64, activation='relu'))\n",
    "cnn_model.add(layers.Dense(10, activation='softmax'))\n",
    "\n",
    "cnn_model.compile(optimizer='adam',\n",
    "              loss='sparse_categorical_crossentropy',\n",
    "              metrics=['accuracy'])"
   ]
  },
  {
   "cell_type": "code",
   "execution_count": 24,
   "metadata": {},
   "outputs": [
    {
     "name": "stdout",
     "output_type": "stream",
     "text": [
      "Epoch 1/10\n",
      "4575/4575 [==============================] - 68s 15ms/step - loss: 0.9349 - accuracy: 0.7447\n",
      "Epoch 2/10\n",
      "4575/4575 [==============================] - 67s 15ms/step - loss: 0.5635 - accuracy: 0.8367\n",
      "Epoch 3/10\n",
      "4575/4575 [==============================] - 67s 15ms/step - loss: 0.5002 - accuracy: 0.8553\n",
      "Epoch 4/10\n",
      "4575/4575 [==============================] - 66s 14ms/step - loss: 0.4655 - accuracy: 0.8638\n",
      "Epoch 5/10\n",
      "4575/4575 [==============================] - 66s 15ms/step - loss: 0.4378 - accuracy: 0.8709\n",
      "Epoch 6/10\n",
      "4575/4575 [==============================] - 67s 15ms/step - loss: 0.4182 - accuracy: 0.8768\n",
      "Epoch 7/10\n",
      "4575/4575 [==============================] - 67s 15ms/step - loss: 0.4026 - accuracy: 0.8813\n",
      "Epoch 8/10\n",
      "4575/4575 [==============================] - 68s 15ms/step - loss: 0.3886 - accuracy: 0.8857\n",
      "Epoch 9/10\n",
      "4575/4575 [==============================] - 65s 14ms/step - loss: 0.3783 - accuracy: 0.8881\n",
      "Epoch 10/10\n",
      "4575/4575 [==============================] - 68s 15ms/step - loss: 0.3680 - accuracy: 0.8910\n"
     ]
    },
    {
     "data": {
      "text/plain": [
       "<keras.callbacks.History at 0x268f41c1490>"
      ]
     },
     "execution_count": 24,
     "metadata": {},
     "output_type": "execute_result"
    }
   ],
   "source": [
    "# Fit train data ~11min\n",
    "cnn_model.fit(X_train, y_train, epochs=10)"
   ]
  },
  {
   "cell_type": "code",
   "execution_count": 26,
   "metadata": {},
   "outputs": [
    {
     "name": "stdout",
     "output_type": "stream",
     "text": [
      "4575/4575 [==============================] - 24s 5ms/step - loss: 0.3359 - accuracy: 0.9002\n",
      "Model: \"sequential_3\"\n",
      "_________________________________________________________________\n",
      "Layer (type)                 Output Shape              Param #   \n",
      "=================================================================\n",
      "conv2d_8 (Conv2D)            (None, 30, 30, 32)        896       \n",
      "_________________________________________________________________\n",
      "max_pooling2d_6 (MaxPooling2 (None, 15, 15, 32)        0         \n",
      "_________________________________________________________________\n",
      "conv2d_9 (Conv2D)            (None, 13, 13, 64)        18496     \n",
      "_________________________________________________________________\n",
      "max_pooling2d_7 (MaxPooling2 (None, 6, 6, 64)          0         \n",
      "_________________________________________________________________\n",
      "flatten_3 (Flatten)          (None, 2304)              0         \n",
      "_________________________________________________________________\n",
      "dense_6 (Dense)              (None, 64)                147520    \n",
      "_________________________________________________________________\n",
      "dense_7 (Dense)              (None, 10)                650       \n",
      "=================================================================\n",
      "Total params: 167,562\n",
      "Trainable params: 167,562\n",
      "Non-trainable params: 0\n",
      "_________________________________________________________________\n"
     ]
    }
   ],
   "source": [
    "# cnn.evaluate(X_test,y_test)\n",
    "cnn_model.evaluate(X_train,y_train) # loss: 0.2900 - accuracy: 0.9131\n",
    "cnn_model.summary()"
   ]
  },
  {
   "cell_type": "code",
   "execution_count": 27,
   "metadata": {},
   "outputs": [],
   "source": [
    "# cnn_model.evaluate(X_test,y_test) # loss: xxx - accuracy: xxx\n",
    "# y_pred = cnn_model.predict(X_test)\n",
    "\n"
   ]
  }
 ],
 "metadata": {
  "interpreter": {
   "hash": "31f2aee4e71d21fbe5cf8b01ff0e069b9275f58929596ceb00d14d90e3e16cd6"
  },
  "kernelspec": {
   "display_name": "Python 3 (ipykernel)",
   "language": "python",
   "name": "python3"
  },
  "language_info": {
   "codemirror_mode": {
    "name": "ipython",
    "version": 3
   },
   "file_extension": ".py",
   "mimetype": "text/x-python",
   "name": "python",
   "nbconvert_exporter": "python",
   "pygments_lexer": "ipython3",
   "version": "3.8.2"
  }
 },
 "nbformat": 4,
 "nbformat_minor": 2
}
